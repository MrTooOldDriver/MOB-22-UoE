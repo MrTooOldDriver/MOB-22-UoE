{
 "cells": [
  {
   "cell_type": "markdown",
   "metadata": {},
   "source": [
    "## Introduction\n",
    "----\n",
    "\n",
    "This Tutorial will give you an example of how to compute Least Squares and Recursive Least Squares.\n",
    "\n",
    "We will be using numpy for matrix computation and matplotlib for visualization."
   ]
  },
  {
   "cell_type": "code",
   "execution_count": 1,
   "metadata": {},
   "outputs": [],
   "source": [
    "import numpy as np\n",
    "from numpy.linalg import inv\n",
    "import matplotlib.pyplot as plt"
   ]
  },
  {
   "cell_type": "markdown",
   "metadata": {},
   "source": [
    "## Model and data\n",
    "----\n",
    "\n",
    "The example of resistance measurement in the slides is an estimation of a single constant. In this code, we will extend the example to estimate a vector $\\mathbf{x}$ with length of 2.\n",
    "\n",
    "You will be fitting a linear model between voltage and current: $V = RI + b$. You are given the measurements of voltage $V$ and current $I$, while your goal is to estimate the value of resistance $R$ and offset $b$. If Ohm's law ($V = RI$) holds, you expect this offset $b$ to be near zero.\n",
    "\n",
    "The measurements you get is in the following table:\n",
    "\n",
    "| Current (A) | Voltage (V) |\n",
    "|-------------|-------------|\n",
    "| 0.2         | 1.23        |\n",
    "| 0.3         | 1.38        |\n",
    "| 0.4         | 2.06        |\n",
    "| 0.5         | 2.47        |\n",
    "| 0.6         | 3.17        |\n",
    "\n",
    "How good are these measurements? You may assume that the current values are known exactly, and that the voltage measurements are corrupted by additive, independent and identitically distributed zero-mean Gaussian noise with a standard deviation of $0.15~V$ (i.e., a variance of $0.0225 ~ V^2$). You may also assume that your initial estimates for $\\hat{R}$ and $\\hat{b}$ are uncorelated (i.e., the off-diagonal elements of the $2 \\times 2$ covariance matrix are zero). "
   ]
  },
  {
   "cell_type": "code",
   "execution_count": 2,
   "metadata": {},
   "outputs": [],
   "source": [
    "I = np.array([[0.2, 0.3, 0.4, 0.5, 0.6]]).T\n",
    "V = np.array([[1.23, 1.38, 2.06, 2.47, 3.17]]).T"
   ]
  },
  {
   "cell_type": "code",
   "execution_count": 3,
   "metadata": {},
   "outputs": [
    {
     "data": {
      "image/png": "[encoded data removed]",
      "text/plain": [
       "<Figure size 432x288 with 1 Axes>"
      ]
     },
     "metadata": {
      "needs_background": "light"
     },
     "output_type": "display_data"
    }
   ],
   "source": [
    "plt.scatter(I, V)\n",
    "plt.xlabel('Current (A)')\n",
    "plt.ylabel('Voltage (V)')\n",
    "plt.grid(True)\n",
    "plt.show()"
   ]
  },
  {
   "cell_type": "markdown",
   "metadata": {},
   "source": [
    "## Task 1: Least Squares\n",
    "----\n",
    "\n",
    "Let's first suppose you got all the measurements at once. In this case, you can use least squares to estimate the results.\n",
    "\n",
    "As you may find in the slides, the equation to be used for this estimation is:\n",
    "\n",
    "\\begin{align}\n",
    "\\hat{\\mathbf{x}}_{LS} = \\left(\\mathbf{H}^T\\mathbf{H}\\right)^{-1}\\mathbf{H}^T\\mathbf{y}\n",
    "\\end{align}\n",
    "\n",
    "All you need to do is to appropriately define $\\mathbf{x}$, $\\mathbf{H}$ and $\\mathbf{y}$."
   ]
  },
  {
   "cell_type": "code",
   "execution_count": null,
   "metadata": {},
   "outputs": [],
   "source": [
    "# Least Squares Estimation\n",
    "H = #TODO\n",
    "x_ls = #TODO\n",
    "print('The slope and offset parameters of the best-fit line (i.e., the resistance and offset) are [R, b]:')\n",
    "print('Estimates value for R is:', x_ls[0, 0])\n",
    "print('Estimates value for b is:', x_ls[1, 0])"
   ]
  },
  {
   "cell_type": "markdown",
   "metadata": {},
   "source": [
    "#### [Solution for Least Squares]"
   ]
  },
  {
   "cell_type": "code",
   "execution_count": 4,
   "metadata": {},
   "outputs": [
    {
     "name": "stdout",
     "output_type": "stream",
     "text": [
      "The slope and offset parameters of the best-fit line (i.e., the resistance and offset) are [R, b]:\n",
      "Estimates value for R is: 4.970000000000006\n",
      "Estimates value for b is: 0.07399999999999807\n"
     ]
    }
   ],
   "source": [
    "# Least Squares Estimation\n",
    "H = np.ones((5, 2))\n",
    "H[:, 0] = I.ravel()\n",
    "x_ls = inv(H.T.dot(H)).dot(H.T.dot(V))\n",
    "print('The slope and offset parameters of the best-fit line (i.e., the resistance and offset) are [R, b]:')\n",
    "print('Estimates value for R is:', x_ls[0, 0])\n",
    "print('Estimates value for b is:', x_ls[1, 0])"
   ]
  },
  {
   "cell_type": "code",
   "execution_count": 5,
   "metadata": {
    "scrolled": true
   },
   "outputs": [
    {
     "data": {
      "image/png": "[encoded data removed]",
      "text/plain": [
       "<Figure size 432x288 with 1 Axes>"
      ]
     },
     "metadata": {
      "needs_background": "light"
     },
     "output_type": "display_data"
    }
   ],
   "source": [
    "# Visualize results\n",
    "I_line = np.arange(0, 0.8, 0.1).reshape(8, 1)\n",
    "V_line = x_ls[0]*I_line + x_ls[1]\n",
    "\n",
    "plt.scatter(I, V)\n",
    "plt.plot(I_line, V_line)\n",
    "plt.xlabel('Current (A)')\n",
    "plt.ylabel('Voltage (V)')\n",
    "plt.grid(True)\n",
    "plt.show()"
   ]
  },
  {
   "cell_type": "markdown",
   "metadata": {},
   "source": [
    "As expected, the offset parameter $\\hat{b}$ is near zero, while $\\hat{R}$ closely approximates the true resistance value of $R = 5~\\Omega$."
   ]
  },
  {
   "cell_type": "markdown",
   "metadata": {},
   "source": [
    "## Task 2: Recursive Least Squares\n",
    "----\n",
    "\n",
    "Next, let's assume you don't get all measurements at once, but you get one set of $[V, I]$ measurements at a time, and you need to update your estimation of $[R, b]$ every time you get a new measurements.\n",
    "\n",
    "In this case, you will need to use Recursive Least Square.\n",
    "\n",
    "### Initialize\n",
    "----\n",
    "\n",
    "To use the recursive least squares formulation, you must have a prior estimate of the resistance and its associated uncertainty (otherwise, you won't know how to weigh the information you receive from a new measurement). You choose to set the initial parameters under the assumption that your prior estimate of the resistance, $R = 4$, is not very good. Also, since you are fairly sure that Ohm's law ($V = RI$) does, in fact, hold, you feel that it is safe to assume with high confidence that the offset term $b$ is close to zero. After some thought, you choose to intialize the recursive estimator as follows:\n",
    "\n",
    "$$\\hat{R} \\sim \\mathcal{N}(4, 9.0),~~\\hat{b} \\sim \\mathcal{N}(0, 0.2)$$\n",
    "\n",
    "Your initial guess is that $\\hat{R}$ follows a Gaussian or normal distribution (recall that you do not know the exact value of $R$, so it must be considered as a random variable) with a mean of $4~\\Omega$ and a standard deviation of $3~ \\Omega$ (i.e., a variance of $9~\\Omega^{2}$). Similarly, your intial guess is that $\\hat{b}$ should also follow a normal distribution with a mean of $0~V$ and a variance of $0.2~V^{2}$.\n",
    "\n",
    "With this initial guess, you can initiate the recursive least square.\n",
    "\n",
    "**Initialize the parameter and covariance estimates**:\n",
    "\n",
    "----\n",
    "$$\n",
    "\\hat{\\mathbf{x}}_0 = E\\left[\\mathbf{x}\\right],\\quad \\mathbf{P}_0 = E\\left[(\\mathbf{x} - \\hat{\\mathbf{x}}_0)(\\mathbf{x} - \\hat{\\mathbf{x}}_0)^T\\right]\n",
    "$$"
   ]
  },
  {
   "cell_type": "code",
   "execution_count": null,
   "metadata": {},
   "outputs": [],
   "source": [
    "# Initialize the 2x1 parameter vector x (i.e., x_0).\n",
    "# In this specific case, our x is [R, b]\n",
    "x_k = #TODO\n",
    "\n",
    "#Initialize the 2x2 covaraince matrix (i.e. P_0). Off-diangonal elements should be zero.\n",
    "P_k = #TODO\n",
    "\n",
    "# Our voltage measurement variance (denoted by R, don't confuse with resistance).\n",
    "R_k = #TODO"
   ]
  },
  {
   "cell_type": "markdown",
   "metadata": {},
   "source": [
    "### Recursive Updates\n",
    "\n",
    "After initialization, you can code the loop that updates your estimation with each new measurement.\n",
    "\n",
    "**For every measurement k**:\n",
    "\n",
    "----\n",
    "  * Calculate the gain term: $$\\mathbf{K}_k = \\mathbf{P}_{k-1}\\mathbf{H}_k^T\\left(\\mathbf{H}_k\\mathbf{P}_{k-1}\\mathbf{H}_k^T + \\mathbf{R}_k\\right)^{-1}$$\n",
    "  * Update the parameter estimate: $$\\hat{\\mathbf{x}}_k = \\hat{\\mathbf{x}}_{k-1} + \\mathbf{K}_k\\left(\\mathbf{y}_k - \\mathbf{H}_k\\hat{\\mathbf{x}}_{k-1}\\right)$$\n",
    "  * Update the covariance estimate: $$\\mathbf{P}_k = \\left(\\mathbf{I} - \\mathbf{K}_k\\mathbf{H}_k\\right)\\mathbf{P}_{k-1}$$\n",
    "  \n",
    "In this case, the initial parameter vector $\\hat{\\mathbf{x}}_0$ should contain $\\hat{R}$ and $\\hat{b}$. "
   ]
  },
  {
   "cell_type": "code",
   "execution_count": null,
   "metadata": {},
   "outputs": [],
   "source": [
    "# Pre allocate space to save our estimates at every step.\n",
    "num_meas = I.shape[0]\n",
    "x_hist = np.zeros((num_meas + 1, 2))\n",
    "P_hist = np.zeros((num_meas + 1, 2, 2))\n",
    "\n",
    "x_hist[0] = x_k.T[0]\n",
    "P_hist[0] = P_k\n",
    "\n",
    "# Iterate over all the available measurements.\n",
    "for k in range(num_meas):\n",
    "\n",
    "    # Construct H_k (Jacobian).\n",
    "    H_k = #TODO\n",
    "\n",
    "    # Construct K_k (gain matrix).\n",
    "    K_k = #TODO\n",
    "    \n",
    "    # Get the new data\n",
    "    y_k = #TODO\n",
    "                    \n",
    "    # Update our estimate.\n",
    "    x_k = #TODO\n",
    " \n",
    "    # Update our uncertainty (covariance)\n",
    "    P_k = #TODO\n",
    "\n",
    "    # Keep track of our history.\n",
    "    P_hist[k + 1] = P_k\n",
    "    x_hist[k + 1] = x_k.T[0]\n",
    "    \n",
    "print('The slope and offset parameters of the best-fit line (i.e., the resistance and offset) are [R, b]:')\n",
    "print('Estimates value for R is:', x_k[0, 0])\n",
    "print('Estimates value for b is:', x_k[1, 0])"
   ]
  },
  {
   "cell_type": "markdown",
   "metadata": {},
   "source": [
    "#### [Solution for Recursive Least Squares]"
   ]
  },
  {
   "cell_type": "code",
   "execution_count": 14,
   "metadata": {},
   "outputs": [],
   "source": [
    "# Initialize the 2x1 parameter vector x (i.e., x_0).\n",
    "# In this specific case, our x is [R, b]\n",
    "x_k = np.array([[4.0, 0.0]]).T\n",
    "\n",
    "#Initialize the 2x2 covaraince matrix (i.e. P_0). Off-diangonal elements should be zero.\n",
    "P_k = np.array([[9.0, 0], [0, 0.2]])\n",
    "\n",
    "# Our voltage measurement variance (denoted by R, don't confuse with resistance).\n",
    "R_k = np.array([[0.0225]])"
   ]
  },
  {
   "cell_type": "code",
   "execution_count": 15,
   "metadata": {
    "scrolled": false
   },
   "outputs": [
    {
     "name": "stdout",
     "output_type": "stream",
     "text": [
      "The slope and offset parameters of the best-fit line (i.e., the resistance and offset) are [R, b]:\n",
      "Estimates value for R is: 4.976925034352892\n",
      "Estimates value for b is: 0.06966257824825756\n"
     ]
    }
   ],
   "source": [
    "# Pre allocate space to save our estimates at every step.\n",
    "num_meas = I.shape[0]\n",
    "x_hist = np.zeros((num_meas + 1, 2))\n",
    "P_hist = np.zeros((num_meas + 1, 2, 2))\n",
    "\n",
    "x_hist[0] = x_k.T[0]\n",
    "P_hist[0] = P_k\n",
    "\n",
    "# Iterate over all the available measurements.\n",
    "for k in range(num_meas):\n",
    "\n",
    "    # Construct H_k (Jacobian).\n",
    "    H_k = np.array([[I[k, 0], 1]])\n",
    "\n",
    "    # Construct K_k (gain matrix).\n",
    "    K_k = P_k.dot(H_k.T).dot(inv(H_k.dot(P_k).dot(H_k.T)+R_k))\n",
    "    \n",
    "    # Get the new data\n",
    "    y_k = V[k, 0]\n",
    "                    \n",
    "    # Update our estimate.\n",
    "    x_k = x_k + K_k.dot(y_k - H_k.dot(x_k))\n",
    " \n",
    "    # Update our uncertainty (covariance)\n",
    "    P_k = (np.identity(2) - K_k.dot(H_k)).dot(P_k)\n",
    "\n",
    "    # Keep track of our history.\n",
    "    P_hist[k + 1] = P_k\n",
    "    x_hist[k + 1] = x_k.T[0]\n",
    "    \n",
    "print('The slope and offset parameters of the best-fit line (i.e., the resistance and offset) are [R, b]:')\n",
    "print('Estimates value for R is:', x_k[0, 0])\n",
    "print('Estimates value for b is:', x_k[1, 0])"
   ]
  },
  {
   "cell_type": "markdown",
   "metadata": {},
   "source": [
    "### Plotting the Results\n",
    "----\n",
    "Let's plot out the solution at each step. Does the resistance value converge towards the batch least squares solution?"
   ]
  },
  {
   "cell_type": "code",
   "execution_count": 16,
   "metadata": {},
   "outputs": [
    {
     "data": {
      "image/png": "[encoded data removed]",
      "text/plain": [
       "<Figure size 432x288 with 1 Axes>"
      ]
     },
     "metadata": {
      "needs_background": "light"
     },
     "output_type": "display_data"
    }
   ],
   "source": [
    "plt.scatter(I, V, label='Data')\n",
    "plt.plot(I_line, V_line, label='Batch Solution')\n",
    "plt.xlabel('Current (A)')\n",
    "plt.ylabel('Voltage (V)')\n",
    "plt.grid(True)\n",
    "\n",
    "I_line = np.arange(0, 0.8, 0.1).reshape(8, 1)\n",
    "\n",
    "for k in range(num_meas):\n",
    "    V_line = x_hist[k, 0]*I_line + x_hist[k, 1]\n",
    "    plt.plot(I_line, V_line, label='Measurement {}'.format(k))\n",
    "\n",
    "plt.legend()\n",
    "plt.show()"
   ]
  },
  {
   "cell_type": "markdown",
   "metadata": {},
   "source": [
    "The resistance estimate $\\hat{R}$ should approach the true resistance value of $R = 5~\\Omega$ very closely (i.e., to within a few hundredths of ohms). As expected, the offset term $\\hat{b}$ should be small as well (less than 0.1 ohms). Try modifying the initialization (e.g., the intial uncertainty of the prior guess) - can you get a better final esimate?"
   ]
  }
 ],
 "metadata": {
  "kernelspec": {
   "display_name": "Python 3",
   "language": "python",
   "name": "python3"
  },
  "language_info": {
   "codemirror_mode": {
    "name": "ipython",
    "version": 3
   },
   "file_extension": ".py",
   "mimetype": "text/x-python",
   "name": "python",
   "nbconvert_exporter": "python",
   "pygments_lexer": "ipython3",
   "version": "3.8.8"
  }
 },
 "nbformat": 4,
 "nbformat_minor": 2
}
